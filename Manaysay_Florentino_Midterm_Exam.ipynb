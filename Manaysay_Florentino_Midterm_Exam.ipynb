{
  "nbformat": 4,
  "nbformat_minor": 0,
  "metadata": {
    "colab": {
      "provenance": [],
      "authorship_tag": "ABX9TyP8H89vYont3jTCV3ZfGWb6",
      "include_colab_link": true
    },
    "kernelspec": {
      "name": "python3",
      "display_name": "Python 3"
    },
    "language_info": {
      "name": "python"
    }
  },
  "cells": [
    {
      "cell_type": "markdown",
      "metadata": {
        "id": "view-in-github",
        "colab_type": "text"
      },
      "source": [
        "<a href=\"https://colab.research.google.com/github/FlorentinoManaysay/CPEN65-2/blob/main/Manaysay_Florentino_Midterm_Exam.ipynb\" target=\"_parent\"><img src=\"https://colab.research.google.com/assets/colab-badge.svg\" alt=\"Open In Colab\"/></a>"
      ]
    },
    {
      "cell_type": "markdown",
      "source": [
        "1. Write a Python program to create an array of 10 integers and display the array items. Access individual elements through indexes and compute for the sum."
      ],
      "metadata": {
        "id": "wlJFYElyAMcO"
      }
    },
    {
      "cell_type": "code",
      "source": [
        "import array as arr\n",
        "num = arr.array('i',[1,2,3,4,5,6,7,8,9,10])\n",
        "\n",
        "for index, val in enumerate(num):\n",
        "  print(index,val)\n",
        "\n",
        "total = (1+2+3+4+5+6+7+8+9+10)\n",
        "\n",
        "print(\"The sum is:\", total)"
      ],
      "metadata": {
        "colab": {
          "base_uri": "https://localhost:8080/"
        },
        "id": "ah-gzn7UVk0H",
        "outputId": "1857ef29-5424-4f23-abcc-69fa82838c64"
      },
      "execution_count": null,
      "outputs": [
        {
          "output_type": "stream",
          "name": "stdout",
          "text": [
            "0 1\n",
            "1 2\n",
            "2 3\n",
            "3 4\n",
            "4 5\n",
            "5 6\n",
            "6 7\n",
            "7 8\n",
            "8 9\n",
            "9 10\n",
            "The sum is: 55\n"
          ]
        }
      ]
    },
    {
      "cell_type": "markdown",
      "source": [
        "2. Write a Python program to append a new item to the end of the array. Original array: numbers = [1, 2, 3, 4, 5, 6, 7, 8, 9, 10]"
      ],
      "metadata": {
        "id": "grfQtcyYBoLK"
      }
    },
    {
      "cell_type": "code",
      "source": [
        "import array as arr\n",
        "\n",
        "array_numbers = arr.array('i', [1,2,3,4,5,6,7,8,9,10])\n",
        "print(\"Original array: \" + str(array_numbers))\n",
        "print(\"Append new item at the end of the array:\")\n",
        "array_numbers.append(11)\n",
        "print(\"New array: \"+str(array_numbers))"
      ],
      "metadata": {
        "colab": {
          "base_uri": "https://localhost:8080/"
        },
        "id": "YZUGRJjNBt5h",
        "outputId": "90554730-f325-4fc1-e731-5a665126e78c"
      },
      "execution_count": null,
      "outputs": [
        {
          "output_type": "stream",
          "name": "stdout",
          "text": [
            "Original array: array('i', [1, 2, 3, 4, 5, 6, 7, 8, 9, 10])\n",
            "Append new item at the end of the array:\n",
            "New array: array('i', [1, 2, 3, 4, 5, 6, 7, 8, 9, 10, 11])\n"
          ]
        }
      ]
    },
    {
      "cell_type": "markdown",
      "source": [
        "3. Write a Python program to insert a new item before the second element in an existing array. Original array: numbers = [1, 2, 3, 4, 5, 6, 7, 8, 9, 10]"
      ],
      "metadata": {
        "id": "5EmohVZiEK0D"
      }
    },
    {
      "cell_type": "code",
      "source": [
        "import array as arr\n",
        "\n",
        "array_numbers = arr.array('i', [1,2,3,4,5,6,7,8,9,10])\n",
        "print(\"Original array: \"+str(array_numbers))\n",
        "\n",
        "print(\"Insert new value 11 before 2:\")\n",
        "array_numbers.insert(1, 11)\n",
        "\n",
        "print(\"New array: \"+str(array_numbers))"
      ],
      "metadata": {
        "id": "saotc0-WETAu",
        "colab": {
          "base_uri": "https://localhost:8080/"
        },
        "outputId": "cc61b2d0-b731-4820-91d5-2b85bc2180ee"
      },
      "execution_count": null,
      "outputs": [
        {
          "output_type": "stream",
          "name": "stdout",
          "text": [
            "Original array: array('i', [1, 2, 3, 4, 5, 6, 7, 8, 9, 10])\n",
            "Insert new value 11 before 2:\n",
            "New array: array('i', [1, 11, 2, 3, 4, 5, 6, 7, 8, 9, 10])\n"
          ]
        }
      ]
    },
    {
      "cell_type": "markdown",
      "source": [
        "4.Write a Python program to reverse the order of the items in the array. Original array: numbers = [5, 4, 3, 2, 1]"
      ],
      "metadata": {
        "id": "Au8PbS13IaFp"
      }
    },
    {
      "cell_type": "code",
      "source": [
        "import array as arr\n",
        "\n",
        "array_numbers = arr.array('i', [5,4,3,2,1])\n",
        "print(\"Original array: \"+str(array_numbers))\n",
        "\n",
        "array_numbers.reverse()\n",
        "print(\"Reverse the order of the items:\")\n",
        "print(str(array_numbers))"
      ],
      "metadata": {
        "colab": {
          "base_uri": "https://localhost:8080/"
        },
        "id": "7_RnWw4kI5Qk",
        "outputId": "820e49c8-e5dd-409c-aa7a-b4a06d16133e"
      },
      "execution_count": null,
      "outputs": [
        {
          "output_type": "stream",
          "name": "stdout",
          "text": [
            "Original array: array('i', [5, 4, 3, 2, 1])\n",
            "Reverse the order of the items:\n",
            "array('i', [1, 2, 3, 4, 5])\n"
          ]
        }
      ]
    },
    {
      "cell_type": "markdown",
      "source": [
        "5. Write a Python program to get the length of the array. Original array: numbers = [5, 4, 3, 2, 1]"
      ],
      "metadata": {
        "id": "a1cQlUjaKOyo"
      }
    },
    {
      "cell_type": "code",
      "source": [
        "import array as arr\n",
        "\n",
        "numbers_array = arr.array('i', [5,4,3,2,1])\n",
        "print(\"Length of the array is:\", len(numbers_array))"
      ],
      "metadata": {
        "colab": {
          "base_uri": "https://localhost:8080/"
        },
        "id": "brNNAkZWKuOM",
        "outputId": "a6b7980e-25bf-4fdb-f251-bcf95d6b35f2"
      },
      "execution_count": null,
      "outputs": [
        {
          "output_type": "stream",
          "name": "stdout",
          "text": [
            "Length of the array is: 5\n"
          ]
        }
      ]
    }
  ]
}