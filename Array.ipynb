{
  "nbformat": 4,
  "nbformat_minor": 0,
  "metadata": {
    "colab": {
      "provenance": [],
      "authorship_tag": "ABX9TyPleWdMnmc1CoH8/K2dzOmA",
      "include_colab_link": true
    },
    "kernelspec": {
      "name": "python3",
      "display_name": "Python 3"
    },
    "language_info": {
      "name": "python"
    }
  },
  "cells": [
    {
      "cell_type": "markdown",
      "metadata": {
        "id": "view-in-github",
        "colab_type": "text"
      },
      "source": [
        "<a href=\"https://colab.research.google.com/github/FlorentinoManaysay/CPEN65-2/blob/main/Array.ipynb\" target=\"_parent\"><img src=\"https://colab.research.google.com/assets/colab-badge.svg\" alt=\"Open In Colab\"/></a>"
      ]
    },
    {
      "cell_type": "code",
      "source": [
        "#Accessing the elements in an Array\n",
        "\n",
        "animals = [\"cat\",\"dog\",\"cow\"]\n",
        "x = animals[0]\n",
        "y = animals[1]\n",
        "z = animals[2]\n",
        "print(\"Array[0] =\",x)\n",
        "print(\"Array[1] =\",y)"
      ],
      "metadata": {
        "colab": {
          "base_uri": "https://localhost:8080/"
        },
        "id": "FDLtvOi5TlLP",
        "outputId": "e7066d39-acca-429c-c873-339f5b335fb8"
      },
      "execution_count": null,
      "outputs": [
        {
          "output_type": "stream",
          "name": "stdout",
          "text": [
            "Array[0] = cat\n",
            "Array[1] = dog\n"
          ]
        }
      ]
    },
    {
      "cell_type": "code",
      "source": [
        "#modifying the elements in the Array\n",
        "animals = [\"cat\",\"dog\",\"cow\"]\n",
        "animals[0] = \"monkey\"\n",
        "x = animals[0]\n",
        "print(\"Array[0] = \",x)\n",
        "print(animals)"
      ],
      "metadata": {
        "colab": {
          "base_uri": "https://localhost:8080/"
        },
        "id": "DQ-sXpA1TrQO",
        "outputId": "151a5dc9-f96d-4dd9-96cc-7b23514070cd"
      },
      "execution_count": null,
      "outputs": [
        {
          "output_type": "stream",
          "name": "stdout",
          "text": [
            "Array[0] =  monkey\n",
            "['monkey', 'dog', 'cow']\n"
          ]
        }
      ]
    },
    {
      "cell_type": "code",
      "source": [
        "#length of the Array\n",
        "animals = [\"monkey\",\"cat\",\"dog\",\"fish\"]\n",
        "v = len(animals)\n",
        "print(v)"
      ],
      "metadata": {
        "colab": {
          "base_uri": "https://localhost:8080/"
        },
        "id": "WqEZfMHvTsuv",
        "outputId": "034549ae-e642-4a95-c7d3-c7177651dac1"
      },
      "execution_count": null,
      "outputs": [
        {
          "output_type": "stream",
          "name": "stdout",
          "text": [
            "4\n"
          ]
        }
      ]
    },
    {
      "cell_type": "code",
      "execution_count": null,
      "metadata": {
        "colab": {
          "base_uri": "https://localhost:8080/"
        },
        "id": "XFJK76SXSzAc",
        "outputId": "9c8818cd-ab03-4bca-accf-0cb0c8b0f1ea"
      },
      "outputs": [
        {
          "output_type": "stream",
          "name": "stdout",
          "text": [
            "monkey\n",
            "cat\n",
            "dog\n",
            "fish\n",
            "cow\n"
          ]
        }
      ],
      "source": [
        "#looping Array Elements\n",
        "animals = [\"monkey\",\"cat\",\"dog\",\"fish\", \"cow\"]\n",
        "for x in animals:\n",
        "  print(x)"
      ]
    },
    {
      "cell_type": "code",
      "source": [
        "animals = [\"monkey\",\"cat\",\"dog\",\"fish\", \"cow\"]\n",
        "for index , val in enumerate(animals):\n",
        "  print(index,val)"
      ],
      "metadata": {
        "colab": {
          "base_uri": "https://localhost:8080/"
        },
        "id": "WU0hzHxlTCMz",
        "outputId": "97476c42-d3e3-4966-bca5-af7d6dea34d0"
      },
      "execution_count": null,
      "outputs": [
        {
          "output_type": "stream",
          "name": "stdout",
          "text": [
            "0 monkey\n",
            "1 cat\n",
            "2 dog\n",
            "3 fish\n",
            "4 cow\n"
          ]
        }
      ]
    },
    {
      "cell_type": "code",
      "source": [
        "#adding elements in the array\n",
        "animals = [\"monkey\",\"cat\",\"dog\",\"fish\", \"cow\"]\n",
        "animals.append(\"tiger\")\n",
        "print(animals)"
      ],
      "metadata": {
        "colab": {
          "base_uri": "https://localhost:8080/"
        },
        "id": "FiDEeQ4VTHCm",
        "outputId": "173c616c-ae66-463e-d237-69c2ae6abe8c"
      },
      "execution_count": null,
      "outputs": [
        {
          "output_type": "stream",
          "name": "stdout",
          "text": [
            "['monkey', 'cat', 'dog', 'fish', 'cow', 'tiger']\n"
          ]
        }
      ]
    },
    {
      "cell_type": "code",
      "source": [
        "#create a pythin program to insert a new item ('11') before the second element in an existing array,\n",
        "#original array: numbers = [1,2,3,4,5,6,7,8,9,10,]\n",
        "numbers = [1,2,3,4,5,6,7,8,9,10,]\n",
        "numbers.insert(1,11)\n",
        "print(numbers)"
      ],
      "metadata": {
        "colab": {
          "base_uri": "https://localhost:8080/"
        },
        "id": "9gfSvbiOTJy1",
        "outputId": "6b1060d6-f20d-4599-8b92-517a61525214"
      },
      "execution_count": null,
      "outputs": [
        {
          "output_type": "stream",
          "name": "stdout",
          "text": [
            "[1, 11, 2, 3, 4, 5, 6, 7, 8, 9, 10]\n"
          ]
        }
      ]
    },
    {
      "cell_type": "code",
      "source": [
        "#removing elements in an array\n",
        "animals = [\"monkey\",\"cat\",\"dog\",\"fish\", \"cow\"]\n",
        "animals.pop(1)\n",
        "print(animals)"
      ],
      "metadata": {
        "colab": {
          "base_uri": "https://localhost:8080/"
        },
        "id": "vLDtiHuFTpNv",
        "outputId": "52eb22fc-03a7-4ae0-902f-521565c67338"
      },
      "execution_count": null,
      "outputs": [
        {
          "output_type": "stream",
          "name": "stdout",
          "text": [
            "['monkey', 'dog', 'fish', 'cow']\n"
          ]
        }
      ]
    }
  ]
}