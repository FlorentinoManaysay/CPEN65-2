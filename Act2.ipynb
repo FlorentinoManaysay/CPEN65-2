{
  "nbformat": 4,
  "nbformat_minor": 0,
  "metadata": {
    "colab": {
      "provenance": [],
      "authorship_tag": "ABX9TyND9UA5A5Wnh/cYsN62bUxN",
      "include_colab_link": true
    },
    "kernelspec": {
      "name": "python3",
      "display_name": "Python 3"
    },
    "language_info": {
      "name": "python"
    }
  },
  "cells": [
    {
      "cell_type": "markdown",
      "metadata": {
        "id": "view-in-github",
        "colab_type": "text"
      },
      "source": [
        "<a href=\"https://colab.research.google.com/github/FlorentinoManaysay/CPEN65-2/blob/main/Act2.ipynb\" target=\"_parent\"><img src=\"https://colab.research.google.com/assets/colab-badge.svg\" alt=\"Open In Colab\"/></a>"
      ]
    },
    {
      "cell_type": "code",
      "execution_count": 2,
      "metadata": {
        "id": "LYz2bR_zBGfx",
        "colab": {
          "base_uri": "https://localhost:8080/"
        },
        "outputId": "4118a229-8f2d-4e08-f5d1-073de4339d5c"
      },
      "outputs": [
        {
          "output_type": "stream",
          "name": "stdout",
          "text": [
            "Original: ['Florentino Reyes Manaysay III']\n",
            "Reverse: III yasyanaM seyeR onitnerolF\n"
          ]
        }
      ],
      "source": [
        "name = [\"Florentino Reyes Manaysay III\"]\n",
        "print(\"Original:\",name)\n",
        "\n",
        "rev_name = []\n",
        "for i in name:\n",
        "  rev_name.append(i[::-1])\n",
        "\n",
        "x = \" \".join(rev_name)\n",
        "print(\"Reverse:\",x)"
      ]
    }
  ]
}