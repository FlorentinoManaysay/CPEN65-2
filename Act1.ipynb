{
  "nbformat": 4,
  "nbformat_minor": 0,
  "metadata": {
    "colab": {
      "provenance": [],
      "authorship_tag": "ABX9TyOHD0YZYEjzC3zYHrw5ktBS",
      "include_colab_link": true
    },
    "kernelspec": {
      "name": "python3",
      "display_name": "Python 3"
    },
    "language_info": {
      "name": "python"
    }
  },
  "cells": [
    {
      "cell_type": "markdown",
      "metadata": {
        "id": "view-in-github",
        "colab_type": "text"
      },
      "source": [
        "<a href=\"https://colab.research.google.com/github/FlorentinoManaysay/CPEN65-2/blob/main/Act1.ipynb\" target=\"_parent\"><img src=\"https://colab.research.google.com/assets/colab-badge.svg\" alt=\"Open In Colab\"/></a>"
      ]
    },
    {
      "cell_type": "markdown",
      "source": [
        "#Find the area of circle"
      ],
      "metadata": {
        "id": "HHgkMOFmUJ-P"
      }
    },
    {
      "cell_type": "markdown",
      "source": [
        "#If radius is given"
      ],
      "metadata": {
        "id": "GhbiHWniGuIA"
      }
    },
    {
      "cell_type": "code",
      "execution_count": 4,
      "metadata": {
        "colab": {
          "base_uri": "https://localhost:8080/"
        },
        "id": "wOyIPPaeEkJm",
        "outputId": "35966f49-f2ae-4ba4-df1d-5df462af3fdd"
      },
      "outputs": [
        {
          "output_type": "stream",
          "name": "stdout",
          "text": [
            "Enter the radius of the circle: 5\n",
            "The Area of the circle of the radius 5.0 = 78.5398\n"
          ]
        }
      ],
      "source": [
        "import math\n",
        "\n",
        "class Circle:  \n",
        "  def __init__(self,radius):    \n",
        "    self.radius = radius   \n",
        "    \n",
        "  def Area(self):    \n",
        "    return math.pi*(self.radius**2)\n",
        "\n",
        "radius = float(input(\"Enter the radius of the circle: \"))\n",
        "circle1 = Circle(radius)\n",
        "print (\"The Area of the circle of the radius\", radius, \"=\", round (circle1.Area(),4))"
      ]
    },
    {
      "cell_type": "markdown",
      "source": [
        "#If diameter is given"
      ],
      "metadata": {
        "id": "5x-h3BhWG5J2"
      }
    },
    {
      "cell_type": "code",
      "source": [
        "import math\n",
        "\n",
        "class Circle:  \n",
        "  def __init__(self,diameter):    \n",
        "    self.diameter = diameter   \n",
        "    \n",
        "  def Area(self):    \n",
        "    return math.pi*(self.diameter/2)**2\n",
        "\n",
        "diameter = float(input(\"Enter the diameter of the circle: \"))\n",
        "circle1 = Circle(diameter)\n",
        "print (\"The Area of the circle of the diameter\", diameter, \"=\", round (circle1.Area(),4))"
      ],
      "metadata": {
        "colab": {
          "base_uri": "https://localhost:8080/"
        },
        "id": "MNTWEzm4G-6k",
        "outputId": "c651ec12-1760-4692-885c-1b2bc2ff1f84"
      },
      "execution_count": 5,
      "outputs": [
        {
          "output_type": "stream",
          "name": "stdout",
          "text": [
            "Enter the diameter of the circle: 5\n",
            "The Area of the circle of the diameter 5.0 = 19.635\n"
          ]
        }
      ]
    }
  ]
}